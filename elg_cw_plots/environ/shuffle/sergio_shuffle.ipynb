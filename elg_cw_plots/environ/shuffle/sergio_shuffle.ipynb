{
 "cells": [
  {
   "cell_type": "code",
   "execution_count": 1,
   "metadata": {},
   "outputs": [],
   "source": [
    "##### External Packages\n",
    "import numpy as np\n",
    "from os import system as s\n",
    "import sys\n",
    "import deepdish as dd\n",
    "##### Internal Packages\n",
    "\n",
    "##### Import Plot Packages\n",
    "\n",
    "%matplotlib inline \n",
    "import matplotlib.pyplot as plt\n",
    "import matplotlib.gridspec as gridspec\n"
   ]
  },
  {
   "cell_type": "code",
   "execution_count": 2,
   "metadata": {},
   "outputs": [],
   "source": [
    "#It add (Mult = 1) or remove (Mult = -1) the position of the central to the satellites\n",
    "def AddToSat(Arr,Type,Mult = 1):\n",
    "    last = Arr[0]\n",
    "    for i in range(len(Arr)):\n",
    "        if Type[i]: Arr[i] += Mult*last\n",
    "        else:   last = Arr[i]\n",
    "            \n",
    "#Correct for periodic boundaries\n",
    "def Correct(Arr,LBox,Type,Cond1 = True):\n",
    "    LBox2 = LBox/2.\n",
    "    SatID = Type > 0\n",
    "    for i in range(3):\n",
    "        if Cond1:\n",
    "            NCond1 = np.where((Arr[:,i] > LBox2) & SatID)\n",
    "            Arr[:,i][NCond1] = Arr[:,i][NCond1]-LBox\n",
    "            NCond2 = np.where((Arr[:,i] < -LBox2) & SatID)\n",
    "            Arr[:,i][NCond2] = LBox+Arr[:,i][NCond2]\n",
    "        else:\n",
    "            NCond1 = np.where((Arr[:,i] >= LBox) & SatID)\n",
    "            Arr[:,i][NCond1] = Arr[:,i][NCond1]-LBox\n",
    "            NCond2 = np.where((Arr[:,i] < 0) & SatID)\n",
    "            Arr[:,i][NCond2] = LBox+Arr[:,i][NCond2]\n",
    "#It assigne the central position to all it satellites (all satellies are now at the center of it halo)\n",
    "def GiveToSat(Arr,Type):\n",
    "    last = Arr[0]\n",
    "    for i in range(len(Arr)):\n",
    "        if Type[i]: Arr[i] = last\n",
    "        else:   last = Arr[i]\n"
   ]
  },
  {
   "cell_type": "code",
   "execution_count": 3,
   "metadata": {},
   "outputs": [],
   "source": [
    "#For the MS & MS-WMAP7\n",
    "LBox = 500.\n",
    "NBin,Xmin,Xmax = 70.,9.,16."
   ]
  },
  {
   "cell_type": "code",
   "execution_count": 4,
   "metadata": {},
   "outputs": [],
   "source": []
  },
  {
   "cell_type": "code",
   "execution_count": 5,
   "metadata": {},
   "outputs": [],
   "source": [
    "#I can send this file if needed, its 1.5 Gb\n",
    "d = dd.io.load('Gup2011_sn63.hdf5')"
   ]
  },
  {
   "cell_type": "code",
   "execution_count": 6,
   "metadata": {},
   "outputs": [],
   "source": [
    "#It sort the position of the objects first by fofID and then by type\n",
    "#This is the main 'trick' of this algorithm that make the shufflig code\n",
    "#Really fast, the Data will have the following structure:\n",
    "#haloID Type\n",
    "#0 0\n",
    "#0 1\n",
    "#0 1\n",
    "#0 2\n",
    "#1 0\n",
    "#2 0\n",
    "#2 1\n",
    "#3 0\n",
    "#4 0\n",
    "#4 2\n",
    "ind = np.lexsort((d['Type'],d['fofID']))\n",
    "\n",
    "Pos      = np.copy(d['pos'][ind])\n",
    "HaloMass = np.copy(d['M200c'][ind])\n",
    "Type     = np.copy(d['Type'][ind])\n",
    "HaloInd  = np.copy(d['fofID'][ind])\n",
    "MStell   = np.copy(d['Mstell'][ind])"
   ]
  },
  {
   "cell_type": "code",
   "execution_count": 7,
   "metadata": {},
   "outputs": [
    {
     "name": "stdout",
     "output_type": "stream",
     "text": [
      "CPU times: user 58.7 s, sys: 1.13 s, total: 59.8 s\n",
      "Wall time: 59.3 s\n"
     ]
    }
   ],
   "source": [
    "%%time\n",
    "# I bin for halo mass\n",
    "iMass    = ((np.copy(HaloMass)-Xmin)/(Xmax-Xmin)*NBin).astype(int)\n",
    "# Central Mask\n",
    "CentralID = Type==0\n",
    "# I remove the position of the central to the satellite\n",
    "# ie. the position of the satellite is now relative to it halo\n",
    "AddToSat(Pos,Type,-1)\n",
    "# Correct for periodic bounds\n",
    "Correct(Pos,LBox,Type,Cond1 = True)\n",
    "# I go, halo bin per halo bin, shuffling the satellites\n",
    "for i in range(int(NBin)):\n",
    "    # Select all central galaxies in the halo mass bin\n",
    "    IDs = np.where((CentralID) & (i == iMass))[0]\n",
    "    # Copy the IDs, maybe a copy.copy or even better, copy.deepcopy would work too\n",
    "    IDs_Shuffle = np.copy(IDs)\n",
    "    # Shuffle the index of the central galaxies\n",
    "    np.random.shuffle(IDs_Shuffle)\n",
    "    # Relocate the central galaxies to it new halo\n",
    "    Pos[IDs] = Pos[IDs_Shuffle]\n",
    "    # Re-assign the halo mass to it new halo. Since the halo mass bin is small, this should have\n",
    "    # No impact on the general results, but it is just to be consistent\n",
    "    HaloMass[IDs] = HaloMass[IDs_Shuffle]\n",
    "# Add the central position to it satellite (it just to be relative to it centre, now is absolute again)    \n",
    "AddToSat(Pos,Type)\n",
    "# The satellites have now the same halo mass than it centre galaxy (we change it two steps above)\n",
    "GiveToSat(HaloMass,Type)\n",
    "# Correct again for periodic bounds\n",
    "Correct(Pos,LBox,Type,Cond1 = False)\n",
    "# For the full MS-I, it took 1 minute in a single CPU!!!"
   ]
  },
  {
   "cell_type": "code",
   "execution_count": 8,
   "metadata": {},
   "outputs": [
    {
     "name": "stdout",
     "output_type": "stream",
     "text": [
      "11.045521847945142\n"
     ]
    }
   ],
   "source": [
    "#This is just for testing the code, you can see how it correctly reproduce the AB signal\n",
    "n = 3.16e-4\n",
    "_MStell = np.sort(MStell)[::-1]\n",
    "_MStell_Cut = _MStell[int(n*LBox**3)]\n",
    "Mask1  = d['Mstell'] > _MStell_Cut\n",
    "Mask2  = MStell > _MStell_Cut\n",
    "print  _MStell_Cut"
   ]
  },
  {
   "cell_type": "code",
   "execution_count": 9,
   "metadata": {},
   "outputs": [],
   "source": [
    "from Corrfunc.theory.xi import xi"
   ]
  },
  {
   "cell_type": "code",
   "execution_count": 10,
   "metadata": {},
   "outputs": [],
   "source": [
    "rbins = np.logspace(-2,2,40)\n",
    "rbins_mid = rbins[:-1] + (rbins[1]-rbins[0])/2.\n",
    "X2, Y2, Z2 = Pos[Mask2].T\n",
    "X1, Y1, Z1 = d['pos'][Mask1].T"
   ]
  },
  {
   "cell_type": "code",
   "execution_count": 11,
   "metadata": {},
   "outputs": [
    {
     "name": "stdout",
     "output_type": "stream",
     "text": [
      "CPU times: user 539 ms, sys: 3.16 ms, total: 542 ms\n",
      "Wall time: 140 ms\n"
     ]
    },
    {
     "name": "stderr",
     "output_type": "stream",
     "text": [
      "countpairs_xi_double> gridlink seems inefficient. nmesh = (10, 10, 5); avg_np = 79. Boosting bin refine factor - should lead to better performance\n",
      "xmin = 0.000000 xmax=500.000000 rmax = 100.000000\n",
      "countpairs_xi_double> gridlink seems inefficient. nmesh = (10, 10, 5); avg_np = 79. Boosting bin refine factor - should lead to better performance\n",
      "xmin = 0.000000 xmax=500.000000 rmax = 100.000000\n"
     ]
    }
   ],
   "source": [
    "%%time\n",
    "xi_corrfunc1 = xi(LBox, 4, rbins, X1, Y1, Z1)\n",
    "xi_corrfunc2 = xi(LBox, 4, rbins, X2, Y2, Z2)"
   ]
  },
  {
   "cell_type": "code",
   "execution_count": 12,
   "metadata": {},
   "outputs": [
    {
     "data": {
      "text/plain": [
       "array([1.        , 1.        , 1.        , 1.        , 1.        ,\n",
       "       1.        , 1.        , 1.        , 1.        , 1.        ,\n",
       "       1.        , 1.        , 1.        , 0.997937  , 1.        ,\n",
       "       0.99712598, 1.        , 0.99901031, 0.99920992, 0.99154983,\n",
       "       0.99131295, 0.9956308 , 1.05350801, 1.04057469, 1.07661552,\n",
       "       1.1304882 , 1.11353429, 1.11503937, 1.11362937, 1.12390293,\n",
       "       1.11682103, 1.1326463 , 1.12474939, 1.09852114, 1.06538749,\n",
       "       1.05363217, 1.2845468 , 6.20756342, 1.45636568])"
      ]
     },
     "execution_count": 12,
     "metadata": {},
     "output_type": "execute_result"
    }
   ],
   "source": [
    "xi_corrfunc1['xi']/xi_corrfunc2['xi']"
   ]
  },
  {
   "cell_type": "code",
   "execution_count": 14,
   "metadata": {},
   "outputs": [
    {
     "data": {
      "image/png": "[encoded data removed]",
      "text/plain": [
       "<matplotlib.figure.Figure at 0x7f01448002d0>"
      ]
     },
     "metadata": {
      "needs_background": "light"
     },
     "output_type": "display_data"
    }
   ],
   "source": [
    "def plot():    \n",
    "    fig,ax0 = plt.subplots(nrows=1, ncols=1, figsize=(10, 10))\n",
    "    gs = gridspec.GridSpec(2, 1)\n",
    "    gs.update(hspace=0.0)\n",
    "    ax = plt.subplot(gs[0,0])\n",
    "    ax2 = plt.subplot(gs[1,0])\n",
    "    colour = ['r','b','g','m','c']\n",
    "    \n",
    "    ax.plot( np.log10(rbins_mid), np.log10(xi_corrfunc1['xi']),color = 'k', ls= '-', linewidth = 2, label= r'$\\rm n = 10^{-3.5}/Mpc^{-3}h^3$')\n",
    "    ax.plot( np.log10(rbins_mid), np.log10(xi_corrfunc2['xi']),color = 'k', ls= '--', linewidth = 2, label= r'$\\rm Shuffle$')\n",
    "    ax2.plot(np.log10(rbins_mid), xi_corrfunc1['xi']/xi_corrfunc2['xi'],color = 'k', ls= '-', linewidth = 2 )  \n",
    "    \n",
    "    ax.legend(loc='best', shadow=True,fontsize=20,frameon=False)\n",
    "    ax2.legend(loc='best', shadow=True,fontsize=20,frameon=False)\n",
    "    ##\n",
    "    ax2.plot([-3,3],[1,1],color =  'k', ls=':', linewidth=1) \n",
    "    ####################################################################################################\n",
    "    ax.set_xlim([-1., 1.5])\n",
    "    ax2.set_xlim([-1., 1.5])\n",
    "    ax.set_ylim([-2, 3.5])\n",
    "    ax2.set_ylim([0.8, 1.2])\n",
    "    plt.setp(ax.get_xticklabels(), visible=False)\n",
    "    ####################################################################################################\n",
    "    ax.set_ylabel(r'$\\rm log(\\xi(r))$', fontsize=35)\n",
    "    ax2.set_ylabel(r'$\\rm ratio$', fontsize=35)\n",
    "    ax2.set_xlabel(r'$\\rm log(r/h^{-1}Mpc)$', fontsize=35)\n",
    "    plt.savefig('Guo2011_z0_0p00316.pdf',rasterized=True,papertype = 'b10', bbox_inches='tight')\n",
    "plot()"
   ]
  },
  {
   "cell_type": "code",
   "execution_count": 21,
   "metadata": {},
   "outputs": [
    {
     "data": {
      "text/plain": [
       "499.99725"
      ]
     },
     "execution_count": 21,
     "metadata": {},
     "output_type": "execute_result"
    }
   ],
   "source": [
    "np.max(Y2)"
   ]
  },
  {
   "cell_type": "code",
   "execution_count": null,
   "metadata": {},
   "outputs": [],
   "source": []
  },
  {
   "cell_type": "code",
   "execution_count": null,
   "metadata": {},
   "outputs": [],
   "source": []
  },
  {
   "cell_type": "code",
   "execution_count": null,
   "metadata": {},
   "outputs": [],
   "source": []
  },
  {
   "cell_type": "code",
   "execution_count": null,
   "metadata": {},
   "outputs": [],
   "source": []
  },
  {
   "cell_type": "code",
   "execution_count": null,
   "metadata": {},
   "outputs": [],
   "source": []
  },
  {
   "cell_type": "code",
   "execution_count": null,
   "metadata": {},
   "outputs": [],
   "source": []
  }
 ],
 "metadata": {
  "kernelspec": {
   "display_name": "Python 3",
   "language": "python",
   "name": "python3"
  },
  "language_info": {
   "codemirror_mode": {
    "name": "ipython",
    "version": 3
   },
   "file_extension": ".py",
   "mimetype": "text/x-python",
   "name": "python",
   "nbconvert_exporter": "python",
   "pygments_lexer": "ipython3",
   "version": "3.7.5"
  }
 },
 "nbformat": 4,
 "nbformat_minor": 2
}
